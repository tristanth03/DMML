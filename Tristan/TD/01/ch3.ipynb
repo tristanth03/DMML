{
 "cells": [
  {
   "cell_type": "markdown",
   "metadata": {},
   "source": [
    "## Bernoulli distribution\n",
    "\n",
    "$$ x\\in\\{0,1\\}$$\n",
    "Two outcomes, for instance it might be head and tales\n",
    "\n",
    "$$x \\sim Bern(x|p) = p^x(1-p)^{1-x}$$ \n",
    "\n",
    "### Proof for $\\mathbb{E}[x] = p$ & $var[x]=p(1-p)$\n",
    "$$ \\mathbb{E}[x], x\\sim Bern(x|p)$$\n",
    "$$ \\mathbb{E}\\left[x\\right] = P(x=0) \\cdot 0 + P(x=1) \\cdot 1 = 0\\cdot(1-p)+1\\cdot p = p$$\n",
    "$$ var[x] = \\mathbb{E}\\left[x^2\\right]-\\mathbb{E}[x]^2 = P(x=0) \\cdot 0 + P(x=1) \\cdot 1^2 -p^2  = p(1-p)$$\n",
    "\n",
    "### Maximum likelihood\n",
    "$$p(\\mathcal{D} | \\mu) = \\prod_{n=1}^{N} p(x_n | \\mu) = \\prod_{n=1}^{N} \\mu^{x_n} (1 - \\mu)^{1 - x_n}$$\n",
    "$$\\ln p(\\mathcal{D} | \\mu) = \\sum_{n=1}^{N} \\ln p(x_n | \\mu) = \\sum_{n=1}^{N} \\left\\{ x_n \\ln \\mu + (1 - x_n) \\ln(1 - \\mu) \\right\\}$$\n",
    "\n",
    "\n"
   ]
  },
  {
   "cell_type": "code",
   "execution_count": null,
   "metadata": {},
   "outputs": [],
   "source": []
  }
 ],
 "metadata": {
  "kernelspec": {
   "display_name": "Python 3",
   "language": "python",
   "name": "python3"
  },
  "language_info": {
   "name": "python",
   "version": "3.11.9"
  }
 },
 "nbformat": 4,
 "nbformat_minor": 2
}
