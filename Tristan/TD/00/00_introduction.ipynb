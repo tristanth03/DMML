{
 "cells": [
  {
   "cell_type": "markdown",
   "metadata": {},
   "source": [
    "### Multinomial distribution\n",
    "$$f(x_1,...,x_k;n,p_1,...,p_k) = \\frac{n!}{x_1!...x_k!}p_1^{x_1}...p_k^{x_k}"
   ]
  },
  {
   "cell_type": "markdown",
   "metadata": {},
   "source": [
    "##### Example\n",
    "Suppose that in a three-way election for a large country, candidate A received 20% of the votes, candidate B received 30% of the votes, and candidate C received 50% of the votes. If six voters are selected randomly, what is the probability that there will be exactly one supporter for candidate A, two supporters for candidate B and three supporters for candidate C in the sample?\n",
    "\n",
    "$P(A) = 20\\%$, $P(B) = 30\\%$, $P(C)=50\\%$\n",
    "$n=6$\n",
    "\n",
    "Then\n",
    "$$P(A=1,B=2,C=3) = \\frac{6!}{1!2!3!}(0.2^1)(0.3^2)(0.5^3) = 0.135$$"
   ]
  }
 ],
 "metadata": {
  "kernelspec": {
   "display_name": "Python 3",
   "language": "python",
   "name": "python3"
  },
  "language_info": {
   "codemirror_mode": {
    "name": "ipython",
    "version": 3
   },
   "file_extension": ".py",
   "mimetype": "text/x-python",
   "name": "python",
   "nbconvert_exporter": "python",
   "pygments_lexer": "ipython3",
   "version": "3.11.9"
  }
 },
 "nbformat": 4,
 "nbformat_minor": 2
}
