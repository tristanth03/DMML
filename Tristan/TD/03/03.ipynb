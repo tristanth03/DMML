{
 "cells": [
  {
   "cell_type": "code",
   "execution_count": 80,
   "metadata": {},
   "outputs": [],
   "source": [
    "import torch\n",
    "import matplotlib.pyplot as plt\n",
    "\n",
    "from tools import load_regression_iris\n",
    "from scipy.stats import multivariate_normal\n",
    "\n",
    "X, t = load_regression_iris()\n",
    "N, D = X.shape\n",
    "M, var = 10, 10\n",
    "mu = torch.zeros((M, D))\n",
    "for i in range(D):\n",
    "    mmin = torch.min(X[:, i])\n",
    "    mmax = torch.max(X[:, i])\n",
    "    mu[:, i] = torch.linspace(mmin, mmax, M)\n",
    "# fi = mvn_basis(X, mu, var) \n",
    "\n",
    "\n",
    "features = X\n",
    "\n",
    "M,D = mu.shape\n",
    "N = features.shape[0]\n",
    "sigma_k = var*torch.eye(M)\n",
    "basis_func = torch.zeros(N,M)\n",
    "for i in range(M):\n",
    "    phi_k = multivariate_normal(mu[i,:],sigma_k[i,i])\n",
    "    basis_func[:,i] = torch.asarray(phi_k.pdf(features))\n",
    "\n",
    "\n",
    "a = basis_func\n",
    "# for j in range(N):\n",
    "# phi_k = multivariate_normal(mu[:],sigma_k)\n",
    "# basis = phi_k.pdf(features[1,:])"
   ]
  },
  {
   "cell_type": "code",
   "execution_count": 90,
   "metadata": {},
   "outputs": [
    {
     "data": {
      "text/plain": [
       "tensor([[0.0012, 0.0003, 0.0003, 0.0003, 0.0003, 0.0002, 0.0002, 0.0002, 0.0001,\n",
       "         0.0001],\n",
       "        [0.0003, 0.0013, 0.0003, 0.0003, 0.0003, 0.0003, 0.0003, 0.0002, 0.0002,\n",
       "         0.0001],\n",
       "        [0.0003, 0.0003, 0.0014, 0.0004, 0.0004, 0.0004, 0.0003, 0.0003, 0.0002,\n",
       "         0.0002],\n",
       "        [0.0003, 0.0003, 0.0004, 0.0014, 0.0004, 0.0004, 0.0004, 0.0003, 0.0003,\n",
       "         0.0002],\n",
       "        [0.0003, 0.0003, 0.0004, 0.0004, 0.0014, 0.0004, 0.0004, 0.0003, 0.0003,\n",
       "         0.0002],\n",
       "        [0.0002, 0.0003, 0.0004, 0.0004, 0.0004, 0.0014, 0.0004, 0.0004, 0.0003,\n",
       "         0.0002],\n",
       "        [0.0002, 0.0003, 0.0003, 0.0004, 0.0004, 0.0004, 0.0014, 0.0003, 0.0003,\n",
       "         0.0002],\n",
       "        [0.0002, 0.0002, 0.0003, 0.0003, 0.0003, 0.0004, 0.0003, 0.0013, 0.0003,\n",
       "         0.0002],\n",
       "        [0.0001, 0.0002, 0.0002, 0.0003, 0.0003, 0.0003, 0.0003, 0.0003, 0.0012,\n",
       "         0.0002],\n",
       "        [0.0001, 0.0001, 0.0002, 0.0002, 0.0002, 0.0002, 0.0002, 0.0002, 0.0002,\n",
       "         0.0012]])"
      ]
     },
     "execution_count": 90,
     "metadata": {},
     "output_type": "execute_result"
    }
   ],
   "source": [
    "torch.matmul(a.t(),a)+(0.001*torch.eye(a.shape[1]))"
   ]
  }
 ],
 "metadata": {
  "kernelspec": {
   "display_name": "Python 3",
   "language": "python",
   "name": "python3"
  },
  "language_info": {
   "codemirror_mode": {
    "name": "ipython",
    "version": 3
   },
   "file_extension": ".py",
   "mimetype": "text/x-python",
   "name": "python",
   "nbconvert_exporter": "python",
   "pygments_lexer": "ipython3",
   "version": "3.11.9"
  }
 },
 "nbformat": 4,
 "nbformat_minor": 2
}
