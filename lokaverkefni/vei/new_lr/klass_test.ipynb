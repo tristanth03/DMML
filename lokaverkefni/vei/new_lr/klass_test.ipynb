{
 "cells": [
  {
   "cell_type": "code",
   "execution_count": null,
   "metadata": {},
   "outputs": [],
   "source": [
    "import torch\n",
    "import matplotlib.pyplot as plt\n",
    "from tristans_method_0 import FeedForwardNN, NTK, Train, Trist_train\n",
    "\n",
    "# Generate data using noisy Gaussian wave function\n",
    "def noisy_gaussian_wave_function(x, k=10, sigma=0.3, A=1, alpha=0.1):\n",
    "    epsilon = torch.normal(mean=0.0, std=1.0, size=x.shape)  # Generate noise (epsilon) from N(0,1)\n",
    "    return A * torch.exp(-(x**2) / (2 * sigma**2)) * torch.cos(k * x + epsilon * alpha)\n",
    "\n",
    "if __name__ == \"__main__\":\n",
    "    # Generate input data\n",
    "    x_vals = torch.linspace(-1, 1, 1000).view(-1, 1)\n",
    "    psi_vals = noisy_gaussian_wave_function(x_vals).view(-1, 1)\n",
    "\n",
    "    # Define network parameters\n",
    "    input_dim = x_vals.shape[1]\n",
    "    output_dim = psi_vals.shape[1]\n",
    "    hidden_layers = [128, 64]\n",
    "\n",
    "    # Initialize the model\n",
    "    model = FeedForwardNN(x_vals, psi_vals, hidden_layers)\n",
    "   \n",
    "\n",
    "    ntk = NTK(x_vals, x_vals, model)\n",
    "    kernel_matrix, eigenvalues = ntk.compute_ntk()\n",
    "    eigen = eigenvalues.detach().numpy()\n",
    "    eta = 1/eigen[-1]    \n",
    "    trainer = Train(x_vals, psi_vals, model, opt=1, epochs=10000, learning_rate=eta)\n",
    "    losses, predictions = trainer.train_model()"
   ]
  }
 ],
 "metadata": {
  "kernelspec": {
   "display_name": "Python 3",
   "language": "python",
   "name": "python3"
  },
  "language_info": {
   "name": "python",
   "version": "3.11.9"
  }
 },
 "nbformat": 4,
 "nbformat_minor": 2
}
