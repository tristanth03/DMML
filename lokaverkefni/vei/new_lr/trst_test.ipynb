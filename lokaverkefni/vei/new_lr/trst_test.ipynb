{
 "cells": [
  {
   "cell_type": "code",
   "execution_count": 1,
   "metadata": {},
   "outputs": [
    {
     "name": "stderr",
     "output_type": "stream",
     "text": [
      "Calculating Jacobians for x1: 100%|██████████| 1000/1000 [00:00<00:00, 4500.07it/s]\n",
      "Calculating Jacobians for x2: 100%|██████████| 1000/1000 [00:00<00:00, 5298.25it/s]\n",
      "Training Model:   2%|▏         | 232/10000 [00:00<00:23, 417.02it/s]"
     ]
    },
    {
     "name": "stdout",
     "output_type": "stream",
     "text": [
      "Epoch [100/10000], Loss: 0.1336591094732285\n",
      "bon\n",
      "Epoch [200/10000], Loss: 0.1336591094732285\n",
      "bon\n"
     ]
    },
    {
     "name": "stderr",
     "output_type": "stream",
     "text": [
      "Training Model:   4%|▍         | 383/10000 [00:01<00:16, 571.67it/s]"
     ]
    },
    {
     "name": "stdout",
     "output_type": "stream",
     "text": [
      "Epoch [300/10000], Loss: 0.1336591094732285\n",
      "bon\n",
      "Epoch [400/10000], Loss: 0.1336591094732285\n",
      "bon\n"
     ]
    },
    {
     "name": "stderr",
     "output_type": "stream",
     "text": [
      "Training Model:   6%|▌         | 610/10000 [00:01<00:13, 684.03it/s]"
     ]
    },
    {
     "name": "stdout",
     "output_type": "stream",
     "text": [
      "Epoch [500/10000], Loss: 0.1336591094732285\n",
      "bon\n",
      "Epoch [600/10000], Loss: 0.1336591094732285\n",
      "bon\n"
     ]
    },
    {
     "name": "stderr",
     "output_type": "stream",
     "text": [
      "Training Model:   8%|▊         | 836/10000 [00:01<00:12, 725.86it/s]"
     ]
    },
    {
     "name": "stdout",
     "output_type": "stream",
     "text": [
      "Epoch [700/10000], Loss: 0.1336591094732285\n",
      "bon\n",
      "Epoch [800/10000], Loss: 0.1336591094732285\n",
      "bon\n"
     ]
    },
    {
     "name": "stderr",
     "output_type": "stream",
     "text": [
      "Training Model:  10%|█         | 1000/10000 [00:01<00:16, 534.14it/s]"
     ]
    },
    {
     "name": "stdout",
     "output_type": "stream",
     "text": [
      "Epoch [900/10000], Loss: 0.1336591094732285\n",
      "bon\n",
      "Epoch [1000/10000], Loss: 0.1336591094732285\n",
      "bon\n"
     ]
    },
    {
     "name": "stderr",
     "output_type": "stream",
     "text": [
      "\n"
     ]
    },
    {
     "ename": "IndexError",
     "evalue": "index 1000 is out of bounds for axis 0 with size 1000",
     "output_type": "error",
     "traceback": [
      "\u001b[1;31m---------------------------------------------------------------------------\u001b[0m",
      "\u001b[1;31mIndexError\u001b[0m                                Traceback (most recent call last)",
      "Cell \u001b[1;32mIn[1], line 38\u001b[0m\n\u001b[0;32m     36\u001b[0m eigen \u001b[38;5;241m=\u001b[39m eigen[::\u001b[38;5;241m-\u001b[39m\u001b[38;5;241m1\u001b[39m]\n\u001b[0;32m     37\u001b[0m trainer \u001b[38;5;241m=\u001b[39m Trist_train(x_vals,psi_vals,model,eigen,opt\u001b[38;5;241m=\u001b[39m\u001b[38;5;241m1\u001b[39m,epochs\u001b[38;5;241m=\u001b[39m\u001b[38;5;241m10000\u001b[39m)\n\u001b[1;32m---> 38\u001b[0m losses, predictions \u001b[38;5;241m=\u001b[39m \u001b[43mtrainer\u001b[49m\u001b[38;5;241;43m.\u001b[39;49m\u001b[43mT_train_model\u001b[49m\u001b[43m(\u001b[49m\u001b[43m)\u001b[49m\n",
      "File \u001b[1;32mc:\\Programming\\DMML\\lokaverkefni\\vei\\new_lr\\tristans_method_0.py:127\u001b[0m, in \u001b[0;36mTrist_train.T_train_model\u001b[1;34m(self)\u001b[0m\n\u001b[0;32m    125\u001b[0m \u001b[38;5;28;01mfor\u001b[39;00m epoch \u001b[38;5;129;01min\u001b[39;00m range_func:\n\u001b[0;32m    126\u001b[0m     optimizer \u001b[38;5;241m=\u001b[39m torch\u001b[38;5;241m.\u001b[39moptim\u001b[38;5;241m.\u001b[39mSGD(\u001b[38;5;28mself\u001b[39m\u001b[38;5;241m.\u001b[39mmodel\u001b[38;5;241m.\u001b[39mparameters(), lr\u001b[38;5;241m=\u001b[39meta)\n\u001b[1;32m--> 127\u001b[0m     eta \u001b[38;5;241m=\u001b[39m eta \u001b[38;5;241m*\u001b[39m (\u001b[38;5;28;43mself\u001b[39;49m\u001b[38;5;241;43m.\u001b[39;49m\u001b[43meigenvalues\u001b[49m\u001b[43m[\u001b[49m\u001b[43mepoch\u001b[49m\u001b[43m]\u001b[49m \u001b[38;5;241m/\u001b[39m \u001b[38;5;28mself\u001b[39m\u001b[38;5;241m.\u001b[39meigenvalues[\u001b[38;5;241m0\u001b[39m])\n\u001b[0;32m    128\u001b[0m     \u001b[38;5;28mself\u001b[39m\u001b[38;5;241m.\u001b[39mmodel\u001b[38;5;241m.\u001b[39mtrain()\n\u001b[0;32m    129\u001b[0m     optimizer\u001b[38;5;241m.\u001b[39mzero_grad()\n",
      "\u001b[1;31mIndexError\u001b[0m: index 1000 is out of bounds for axis 0 with size 1000"
     ]
    }
   ],
   "source": [
    "import torch\n",
    "import matplotlib.pyplot as plt\n",
    "from tristans_method_0 import FeedForwardNN, NTK, Train, Trist_train\n",
    "import numpy as np\n",
    "import torch.nn as nn\n",
    "from tqdm import tqdm\n",
    "\n",
    "# Generate data using noisy Gaussian wave function\n",
    "def noisy_gaussian_wave_function(x, k=10, sigma=0.3, A=1, alpha=0.1):\n",
    "    epsilon = torch.normal(mean=0.0, std=1.0, size=x.shape)  # Generate noise (epsilon) from N(0,1)\n",
    "    return A * torch.exp(-(x**2) / (2 * sigma**2)) * torch.cos(k * x + epsilon * alpha)\n",
    "\n",
    "\n",
    "\n",
    "\n",
    "\n",
    "if __name__ == \"__main__\":\n",
    "    # Generate input data\n",
    "    x_vals = torch.linspace(-1, 1, 1000).view(-1, 1)\n",
    "    psi_vals = noisy_gaussian_wave_function(x_vals).view(-1, 1)\n",
    "\n",
    "    # Define network parameters\n",
    "    input_dim = x_vals.shape[1]\n",
    "    output_dim = psi_vals.shape[1]\n",
    "    hidden_layers = [128, 64]\n",
    "\n",
    "    # Initialize the model\n",
    "    model = FeedForwardNN(x_vals, psi_vals, hidden_layers)\n",
    "   \n",
    "\n",
    "    \n",
    "    ntk = NTK(x_vals, x_vals, model)\n",
    "    kernel_matrix, eigenvalues = ntk.compute_ntk()\n",
    "    eigen = eigenvalues.detach().numpy()\n",
    "\n",
    "    eigen = eigen[::-1]\n",
    "    trainer = Trist_train(x_vals,psi_vals,model,eigen,opt=1,epochs=10000)\n",
    "    losses, predictions = trainer.T_train_model()"
   ]
  }
 ],
 "metadata": {
  "kernelspec": {
   "display_name": "Python 3",
   "language": "python",
   "name": "python3"
  },
  "language_info": {
   "codemirror_mode": {
    "name": "ipython",
    "version": 3
   },
   "file_extension": ".py",
   "mimetype": "text/x-python",
   "name": "python",
   "nbconvert_exporter": "python",
   "pygments_lexer": "ipython3",
   "version": "3.11.9"
  }
 },
 "nbformat": 4,
 "nbformat_minor": 2
}
